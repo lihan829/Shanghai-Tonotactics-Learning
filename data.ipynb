{
 "cells": [
  {
   "cell_type": "code",
   "execution_count": 9,
   "id": "0e7a496a",
   "metadata": {},
   "outputs": [],
   "source": [
    "import pandas as pd \n",
    "import numpy as np "
   ]
  },
  {
   "cell_type": "code",
   "execution_count": 3,
   "id": "6e2c89ac",
   "metadata": {},
   "outputs": [],
   "source": [
    "\n",
    "shanghai = pd.read_csv(\n",
    "    'shanghai.csv',\n",
    "    header=0,\n",
    "    na_values=['', 'NA', 'NaN'],\n",
    "    usecols=[1, 3, 4, 5],\n",
    "    dtype={'form': 'string', '聲調': 'category', '字元': 'string', '字數': 'Int64'}\n",
    ")\n",
    "\n",
    "# Rename columns\n",
    "shanghai = shanghai.rename(columns={'聲韻': 'Form', '聲調': 'Tone', '字元': 'Char', '字數': 'Count'})\n",
    "shanghai.to_csv('shanghai_cleaned.csv', index=False)\n",
    "# Check info\n",
    "\n",
    "\n"
   ]
  },
  {
   "cell_type": "code",
   "execution_count": 26,
   "id": "f394ae32",
   "metadata": {},
   "outputs": [
    {
     "name": "stdout",
     "output_type": "stream",
     "text": [
      "All phonemes: abdefhiklmnopstuvyzøŋȵɑɔɕəɡɤɦɪɿʑʔʥʦʨʰ̃̍\n",
      "Vowel phonemes: aeiouyøɑɔəɤɪɿ\n",
      "Consonant phonemes: bdfhklmnpstvzŋȵɕɡɦʑʔʥʦʨʰ̃̍\n",
      "Filtered phonemes: ['ø', 'ɑ', 'ɿ', 'v', 'n', 'z', 'd', 'i', 'ŋ', 'b', 'f', 'ɦ', 'ʔ', 'e', 'u', 'ʦ', 's', 'ɤ', 'ʑ', 'ɔ', 'ʥ', 'ə', 'l', 'ɡ', 'ȵ', 'k', 'ʨ', 'y', 'a', 'ɪ', 'ɕ', 't', 'm', 'h', 'o', 'p']\n"
     ]
    }
   ],
   "source": [
    "# get all phonemes\n",
    "shanghai = pd.read_csv('shanghai_cleaned.csv')\n",
    "phonemes = set(''.join(shanghai['Form'].dropna()))\n",
    "vowel_phonemes = set('aeiouyøɑɔəɤɪɿ')\n",
    "cons = phonemes - vowel_phonemes\n",
    "\n",
    "print(\"All phonemes:\", ''.join(sorted(phonemes)))\n",
    "print(\"Vowel phonemes:\", ''.join(sorted(vowel_phonemes)))\n",
    "print(\"Consonant phonemes:\", ''.join(sorted(cons))) \n",
    "\n",
    "# Define diacritics to remove\n",
    "diacritics = {\"ʰ\", \"̃\", \"̍\", \"ː\", \"ˑ\", \"̥\", \"̬\"}\n",
    "\n",
    "# Example: filter from a set\n",
    "phonemes = [p for p in phonemes if p not in diacritics]\n",
    "\n",
    "print(\"Filtered phonemes:\", phonemes)\n",
    "\n"
   ]
  },
  {
   "cell_type": "code",
   "execution_count": 36,
   "id": "222e832f",
   "metadata": {},
   "outputs": [
    {
     "data": {
      "application/vnd.microsoft.datawrangler.viewer.v0+json": {
       "columns": [
        {
         "name": "index",
         "rawType": "object",
         "type": "string"
        },
        {
         "name": "ø",
         "rawType": "object",
         "type": "string"
        },
        {
         "name": "ɑ",
         "rawType": "object",
         "type": "string"
        },
        {
         "name": "ɿ",
         "rawType": "object",
         "type": "string"
        },
        {
         "name": "v",
         "rawType": "object",
         "type": "string"
        },
        {
         "name": "n",
         "rawType": "object",
         "type": "string"
        },
        {
         "name": "z",
         "rawType": "object",
         "type": "string"
        },
        {
         "name": "d",
         "rawType": "object",
         "type": "string"
        },
        {
         "name": "i",
         "rawType": "object",
         "type": "string"
        },
        {
         "name": "ŋ",
         "rawType": "object",
         "type": "string"
        },
        {
         "name": "b",
         "rawType": "object",
         "type": "string"
        },
        {
         "name": "f",
         "rawType": "object",
         "type": "string"
        },
        {
         "name": "ɦ",
         "rawType": "object",
         "type": "string"
        },
        {
         "name": "ʔ",
         "rawType": "object",
         "type": "string"
        },
        {
         "name": "e",
         "rawType": "object",
         "type": "string"
        },
        {
         "name": "u",
         "rawType": "object",
         "type": "string"
        },
        {
         "name": "ʦ",
         "rawType": "object",
         "type": "string"
        },
        {
         "name": "s",
         "rawType": "object",
         "type": "string"
        },
        {
         "name": "ɤ",
         "rawType": "object",
         "type": "string"
        },
        {
         "name": "ʑ",
         "rawType": "object",
         "type": "string"
        },
        {
         "name": "ɔ",
         "rawType": "object",
         "type": "string"
        },
        {
         "name": "ʥ",
         "rawType": "object",
         "type": "string"
        },
        {
         "name": "ə",
         "rawType": "object",
         "type": "string"
        },
        {
         "name": "l",
         "rawType": "object",
         "type": "string"
        },
        {
         "name": "ɡ",
         "rawType": "object",
         "type": "string"
        },
        {
         "name": "ȵ",
         "rawType": "object",
         "type": "string"
        },
        {
         "name": "k",
         "rawType": "object",
         "type": "string"
        },
        {
         "name": "ʨ",
         "rawType": "object",
         "type": "string"
        },
        {
         "name": "y",
         "rawType": "object",
         "type": "string"
        },
        {
         "name": "a",
         "rawType": "object",
         "type": "string"
        },
        {
         "name": "ɪ",
         "rawType": "object",
         "type": "string"
        },
        {
         "name": "ɕ",
         "rawType": "object",
         "type": "string"
        },
        {
         "name": "t",
         "rawType": "object",
         "type": "string"
        },
        {
         "name": "m",
         "rawType": "object",
         "type": "string"
        },
        {
         "name": "h",
         "rawType": "object",
         "type": "string"
        },
        {
         "name": "o",
         "rawType": "object",
         "type": "string"
        },
        {
         "name": "p",
         "rawType": "object",
         "type": "string"
        }
       ],
       "ref": "cbe67c30-3293-4576-99cc-02be389e393e",
       "rows": [
        [
         "vocalic",
         "+",
         "+",
         "+",
         "-",
         "-",
         "-",
         "-",
         "+",
         "-",
         "-",
         "-",
         "-",
         "-",
         "+",
         "+",
         "-",
         "-",
         "+",
         "-",
         "+",
         "-",
         "+",
         "-",
         "-",
         "-",
         "-",
         "-",
         "+",
         "+",
         "+",
         "-",
         "-",
         "-",
         "-",
         "+",
         "-"
        ],
        [
         "sonorant",
         "+",
         "+",
         "+",
         "-",
         "+",
         "-",
         "-",
         "+",
         "-",
         "-",
         "-",
         "-",
         "-",
         "+",
         "+",
         "-",
         "-",
         "+",
         "-",
         "+",
         "-",
         "+",
         "+",
         "-",
         "+",
         "-",
         "-",
         "+",
         "+",
         "+",
         "-",
         "-",
         "+",
         "-",
         "+",
         "-"
        ],
        [
         "consonantal",
         "-",
         "-",
         "-",
         "+",
         "+",
         "+",
         "+",
         "-",
         "-",
         "+",
         "+",
         "+",
         "+",
         "-",
         "-",
         "+",
         "+",
         "-",
         "+",
         "-",
         "+",
         "-",
         "+",
         "+",
         "+",
         "+",
         "+",
         "-",
         "-",
         "-",
         "+",
         "+",
         "+",
         "+",
         "-",
         "+"
        ],
        [
         "cg",
         "-",
         "-",
         "-",
         "-",
         "-",
         "-",
         "-",
         "-",
         "-",
         "-",
         "-",
         "-",
         "+",
         "-",
         "-",
         "-",
         "-",
         "-",
         "-",
         "-",
         "-",
         "-",
         "-",
         "-",
         "-",
         "-",
         "-",
         "-",
         "-",
         "-",
         "-",
         "-",
         "-",
         "-",
         "-",
         "-"
        ],
        [
         "voice",
         "+",
         "+",
         "+",
         "+",
         "+",
         "+",
         "+",
         "+",
         "+",
         "+",
         "-",
         "-",
         "-",
         "+",
         "+",
         "-",
         "-",
         "+",
         "-",
         "+",
         "-",
         "+",
         "+",
         "+",
         "+",
         "-",
         "-",
         "+",
         "+",
         "+",
         "-",
         "-",
         "+",
         "-",
         "+",
         "-"
        ]
       ],
       "shape": {
        "columns": 36,
        "rows": 5
       }
      },
      "text/html": [
       "<div>\n",
       "<style scoped>\n",
       "    .dataframe tbody tr th:only-of-type {\n",
       "        vertical-align: middle;\n",
       "    }\n",
       "\n",
       "    .dataframe tbody tr th {\n",
       "        vertical-align: top;\n",
       "    }\n",
       "\n",
       "    .dataframe thead th {\n",
       "        text-align: right;\n",
       "    }\n",
       "</style>\n",
       "<table border=\"1\" class=\"dataframe\">\n",
       "  <thead>\n",
       "    <tr style=\"text-align: right;\">\n",
       "      <th></th>\n",
       "      <th>ø</th>\n",
       "      <th>ɑ</th>\n",
       "      <th>ɿ</th>\n",
       "      <th>v</th>\n",
       "      <th>n</th>\n",
       "      <th>z</th>\n",
       "      <th>d</th>\n",
       "      <th>i</th>\n",
       "      <th>ŋ</th>\n",
       "      <th>b</th>\n",
       "      <th>...</th>\n",
       "      <th>ʨ</th>\n",
       "      <th>y</th>\n",
       "      <th>a</th>\n",
       "      <th>ɪ</th>\n",
       "      <th>ɕ</th>\n",
       "      <th>t</th>\n",
       "      <th>m</th>\n",
       "      <th>h</th>\n",
       "      <th>o</th>\n",
       "      <th>p</th>\n",
       "    </tr>\n",
       "  </thead>\n",
       "  <tbody>\n",
       "    <tr>\n",
       "      <th>vocalic</th>\n",
       "      <td>+</td>\n",
       "      <td>+</td>\n",
       "      <td>+</td>\n",
       "      <td>-</td>\n",
       "      <td>-</td>\n",
       "      <td>-</td>\n",
       "      <td>-</td>\n",
       "      <td>+</td>\n",
       "      <td>-</td>\n",
       "      <td>-</td>\n",
       "      <td>...</td>\n",
       "      <td>-</td>\n",
       "      <td>+</td>\n",
       "      <td>+</td>\n",
       "      <td>+</td>\n",
       "      <td>-</td>\n",
       "      <td>-</td>\n",
       "      <td>-</td>\n",
       "      <td>-</td>\n",
       "      <td>+</td>\n",
       "      <td>-</td>\n",
       "    </tr>\n",
       "    <tr>\n",
       "      <th>sonorant</th>\n",
       "      <td>+</td>\n",
       "      <td>+</td>\n",
       "      <td>+</td>\n",
       "      <td>-</td>\n",
       "      <td>+</td>\n",
       "      <td>-</td>\n",
       "      <td>-</td>\n",
       "      <td>+</td>\n",
       "      <td>-</td>\n",
       "      <td>-</td>\n",
       "      <td>...</td>\n",
       "      <td>-</td>\n",
       "      <td>+</td>\n",
       "      <td>+</td>\n",
       "      <td>+</td>\n",
       "      <td>-</td>\n",
       "      <td>-</td>\n",
       "      <td>+</td>\n",
       "      <td>-</td>\n",
       "      <td>+</td>\n",
       "      <td>-</td>\n",
       "    </tr>\n",
       "    <tr>\n",
       "      <th>consonantal</th>\n",
       "      <td>-</td>\n",
       "      <td>-</td>\n",
       "      <td>-</td>\n",
       "      <td>+</td>\n",
       "      <td>+</td>\n",
       "      <td>+</td>\n",
       "      <td>+</td>\n",
       "      <td>-</td>\n",
       "      <td>-</td>\n",
       "      <td>+</td>\n",
       "      <td>...</td>\n",
       "      <td>+</td>\n",
       "      <td>-</td>\n",
       "      <td>-</td>\n",
       "      <td>-</td>\n",
       "      <td>+</td>\n",
       "      <td>+</td>\n",
       "      <td>+</td>\n",
       "      <td>+</td>\n",
       "      <td>-</td>\n",
       "      <td>+</td>\n",
       "    </tr>\n",
       "    <tr>\n",
       "      <th>cg</th>\n",
       "      <td>-</td>\n",
       "      <td>-</td>\n",
       "      <td>-</td>\n",
       "      <td>-</td>\n",
       "      <td>-</td>\n",
       "      <td>-</td>\n",
       "      <td>-</td>\n",
       "      <td>-</td>\n",
       "      <td>-</td>\n",
       "      <td>-</td>\n",
       "      <td>...</td>\n",
       "      <td>-</td>\n",
       "      <td>-</td>\n",
       "      <td>-</td>\n",
       "      <td>-</td>\n",
       "      <td>-</td>\n",
       "      <td>-</td>\n",
       "      <td>-</td>\n",
       "      <td>-</td>\n",
       "      <td>-</td>\n",
       "      <td>-</td>\n",
       "    </tr>\n",
       "    <tr>\n",
       "      <th>voice</th>\n",
       "      <td>+</td>\n",
       "      <td>+</td>\n",
       "      <td>+</td>\n",
       "      <td>+</td>\n",
       "      <td>+</td>\n",
       "      <td>+</td>\n",
       "      <td>+</td>\n",
       "      <td>+</td>\n",
       "      <td>+</td>\n",
       "      <td>+</td>\n",
       "      <td>...</td>\n",
       "      <td>-</td>\n",
       "      <td>+</td>\n",
       "      <td>+</td>\n",
       "      <td>+</td>\n",
       "      <td>-</td>\n",
       "      <td>-</td>\n",
       "      <td>+</td>\n",
       "      <td>-</td>\n",
       "      <td>+</td>\n",
       "      <td>-</td>\n",
       "    </tr>\n",
       "  </tbody>\n",
       "</table>\n",
       "<p>5 rows × 36 columns</p>\n",
       "</div>"
      ],
      "text/plain": [
       "             ø  ɑ  ɿ  v  n  z  d  i  ŋ  b  ...  ʨ  y  a  ɪ  ɕ  t  m  h  o  p\n",
       "vocalic      +  +  +  -  -  -  -  +  -  -  ...  -  +  +  +  -  -  -  -  +  -\n",
       "sonorant     +  +  +  -  +  -  -  +  -  -  ...  -  +  +  +  -  -  +  -  +  -\n",
       "consonantal  -  -  -  +  +  +  +  -  -  +  ...  +  -  -  -  +  +  +  +  -  +\n",
       "cg           -  -  -  -  -  -  -  -  -  -  ...  -  -  -  -  -  -  -  -  -  -\n",
       "voice        +  +  +  +  +  +  +  +  +  +  ...  -  +  +  +  -  -  +  -  +  -\n",
       "\n",
       "[5 rows x 36 columns]"
      ]
     },
     "execution_count": 36,
     "metadata": {},
     "output_type": "execute_result"
    }
   ],
   "source": [
    "import pandas as pd\n",
    "\n",
    "# Example phoneme inventory\n",
    "# phonemes = [\"p\",\"t\",\"k\",\"m\",\"n\",\"a\",\"i\",\"u\",\"#\"]  \n",
    "\n",
    "# --- Define feature sets ---\n",
    "feature_system = {\n",
    "    \"vocalic\":   {\"a\",\"i\",\"u\",\"o\",\"e\",\"y\",\"ø\",\"ɑ\",\"ɔ\",\"ə\",\"ɤ\",\"ɪ\",\"ɿ\"},\n",
    "    \"sonorant\":  {\"m\",\"n\",\"ɲ\",\"ȵ\",\"l\",\"j\",\"a\",\"i\",\"u\",\"o\",\"e\",\"y\",\"ø\",\"ɑ\",\"ɔ\",\"ə\",\"ɤ\",\"ɪ\",\"ɿ\"},\n",
    "    \"consonantal\": {\"b\", \"d\", \"f\", \"h\", \"k\", \"l\", \"m\", \"n\", \"p\", \"s\", \"t\", \"v\", \"z\", \n",
    "                    \"ɲ\", \"ȵ\", \"ɕ\", \"ɡ\", \"ɦ\", \"ʑ\", \"ʔ\", \"ʥ\", \"ʦ\", \"ʨ\"},\n",
    "    \"cg\":        {\"ʔ\"},   # consonantal glottalization\n",
    "    \"voice\":     {\"b\",\"d\",\"ɡ\",\"z\",\"v\",\"m\",\"n\",\"ɲ\",'ŋ',\"ȵ\",\"l\",\"j\",\n",
    "                  \"a\",\"i\",\"u\",\"o\",\"e\",\"y\",\"ø\",\"ɑ\",\"ɔ\",\"ə\",\"ɤ\",\"ɪ\",\"ɿ\"}\n",
    "}\n",
    "\n",
    "# --- Build feature chart ---\n",
    "data = {}\n",
    "for feature, segs in feature_system.items():\n",
    "    row = []\n",
    "    for p in phonemes:\n",
    "        if p in segs:\n",
    "            row.append(\"+\")            \n",
    "        else:\n",
    "            row.append(\"-\")\n",
    "    data[feature] = row\n",
    "\n",
    "# --- DataFrame: features as rows, phonemes as columns ---\n",
    "df = pd.DataFrame(data, index=phonemes).T\n",
    "\n",
    "df.to_csv(\"feature_chart.csv\", index=True)\n",
    "\n",
    "\n",
    "df\n"
   ]
  },
  {
   "cell_type": "code",
   "execution_count": 37,
   "id": "1caafbe0",
   "metadata": {},
   "outputs": [
    {
     "data": {
      "application/vnd.microsoft.datawrangler.viewer.v0+json": {
       "columns": [
        {
         "name": "index",
         "rawType": "int64",
         "type": "integer"
        },
        {
         "name": "Form",
         "rawType": "object",
         "type": "string"
        },
        {
         "name": "Tone",
         "rawType": "object",
         "type": "string"
        },
        {
         "name": "Char",
         "rawType": "object",
         "type": "unknown"
        },
        {
         "name": "Count",
         "rawType": "float64",
         "type": "float"
        },
        {
         "name": "Features",
         "rawType": "object",
         "type": "unknown"
        }
       ],
       "ref": "da09e473-53b2-403b-8bcd-452bf4060fd7",
       "rows": [
        [
         "0",
         "aʔ",
         "陰入5",
         "阿, 鴨, 押, 壓",
         "4.0",
         "{'voi': '++', 'syl': '+-', 'glottal': '-+'}"
        ],
        [
         "1",
         "iaʔ",
         "陰入5",
         "約",
         "1.0",
         "{'voi': '+++', 'syl': '++-', 'glottal': '--+'}"
        ],
        [
         "2",
         "uaʔ",
         "陰入5",
         "挖",
         "1.0",
         "{'voi': '+++', 'syl': '++-', 'glottal': '--+'}"
        ],
        [
         "3",
         "oʔ",
         "陰入5",
         "惡, 握, 屋, 沃, 噩, 幄, 齷, 渥",
         "8.0",
         "{'voi': '++', 'syl': '+-', 'glottal': '-+'}"
        ],
        [
         "4",
         "ioʔ",
         "陰入5",
         "郁",
         "1.0",
         "{'voi': '+++', 'syl': '++-', 'glottal': '--+'}"
        ],
        [
         "5",
         "əʔ",
         "陰入5",
         "遏, 㷈, 盦",
         "3.0",
         "{'voi': '++', 'syl': '+-', 'glottal': '-+'}"
        ],
        [
         "6",
         "uəʔ",
         "陰入5",
         ", 殟",
         "2.0",
         "{'voi': '+++', 'syl': '++-', 'glottal': '--+'}"
        ],
        [
         "7",
         "iɪʔ",
         "陰入5",
         "縊, 靨, 揖, 噎, 乙, 一, 抑, 益, 咽, 壹, 溢, 邑, 謁, 屹, 悒, 搕, 擪",
         "17.0",
         "{'voi': '+++', 'syl': '++-', 'glottal': '--+'}"
        ],
        [
         "8",
         "yɪʔ",
         "陰入5",
         "郁",
         "1.0",
         "{'voi': '+++', 'syl': '++-', 'glottal': '--+'}"
        ],
        [
         "9",
         "paʔ",
         "陰入5",
         "八, 百, 柏, 伯, 擘, 捌",
         "6.0",
         "{'voi': '-++', 'syl': '-+-', 'glottal': '--+'}"
        ],
        [
         "10",
         "poʔ",
         "陰入5",
         "博, 剝, 駁, 北, 卜, 膊, 搏",
         "7.0",
         "{'voi': '-++', 'syl': '-+-', 'glottal': '--+'}"
        ],
        [
         "11",
         "pəʔ",
         "陰入5",
         "鉢, 撥, 不",
         "3.0",
         "{'voi': '-++', 'syl': '-+-', 'glottal': '--+'}"
        ],
        [
         "12",
         "piɪʔ",
         "陰入5",
         "鼈, 筆, 畢, 必, 逼, 碧, 璧, 闢, 壁, 潷, 癟, 嗶",
         "12.0",
         "{'voi': '-+++', 'syl': '-++-', 'glottal': '---+'}"
        ],
        [
         "13",
         "pʰaʔ",
         "陰入5",
         "帕, 泊, 迫, 拍, 魄, 珀, 粕, 舶",
         "8.0",
         "{'voi': '-_++', 'syl': '-_+-', 'glottal': '-_-+'}"
        ],
        [
         "14",
         "pʰoʔ",
         "陰入5",
         "樸, 朴, 撲, 仆, 噗, 璞, 濮, 蹼",
         "8.0",
         "{'voi': '-_++', 'syl': '-_+-', 'glottal': '-_-+'}"
        ],
        [
         "15",
         "pʰəʔ",
         "陰入5",
         "潑",
         "1.0",
         "{'voi': '-_++', 'syl': '-_+-', 'glottal': '-_-+'}"
        ],
        [
         "16",
         "pʰiɪʔ",
         "陰入5",
         "撇, 匹, 僻, 闢, 劈, 霹, 瞥, 癖",
         "8.0",
         "{'voi': '-_+++', 'syl': '-_++-', 'glottal': '-_--+'}"
        ],
        [
         "17",
         "faʔ",
         "陰入5",
         "法, 髮, 發, 琺, 砝",
         "5.0",
         "{'voi': '-++', 'syl': '-+-', 'glottal': '--+'}"
        ],
        [
         "18",
         "foʔ",
         "陰入5",
         "復, 福, 幅, 蝠, 複, 腹, 覆, 輻, 馥, 蝮",
         "10.0",
         "{'voi': '-++', 'syl': '-+-', 'glottal': '--+'}"
        ],
        [
         "19",
         "fəʔ",
         "陰入5",
         "彿",
         "1.0",
         "{'voi': '-++', 'syl': '-+-', 'glottal': '--+'}"
        ],
        [
         "20",
         "taʔ",
         "陰入5",
         "答, 搭, 沓, 褡, 耷, 瘩, 妲, 嗒, 鎝, 㿯, 溚",
         "11.0",
         "{'voi': '-++', 'syl': '-+-', 'glottal': '--+'}"
        ],
        [
         "21",
         "toʔ",
         "陰入5",
         "篤, 督, 沰, 厾, 豛",
         "5.0",
         "{'voi': '-++', 'syl': '-+-', 'glottal': '--+'}"
        ],
        [
         "22",
         "təʔ",
         "陰入5",
         "綴, 掇, 得, 德, 敠",
         "5.0",
         "{'voi': '-++', 'syl': '-+-', 'glottal': '--+'}"
        ],
        [
         "23",
         "tʰaʔ",
         "陰入5",
         "搨, 塔, 榻, 塌, 溻, 獺, 遢, 蹋, 呾, 鰨",
         "10.0",
         "{'voi': '+++', 'syl': '-+-', 'glottal': '--+'}"
        ],
        [
         "24",
         "tʰoʔ",
         "陰入5",
         "託, 托, 魄, 禿, 庹, 拓, 橐, 柝, 袥",
         "9.0",
         "{'voi': '+++', 'syl': '-+-', 'glottal': '--+'}"
        ],
        [
         "25",
         "tʰəʔ",
         "陰入5",
         "脫, 忒, 禿",
         "3.0",
         "{'voi': '+++', 'syl': '-+-', 'glottal': '--+'}"
        ],
        [
         "26",
         "tʰiɪʔ",
         "陰入5",
         "帖, 貼, 鐵, 踢, 剔, 惕",
         "6.0",
         "{'voi': '++++', 'syl': '-++-', 'glottal': '---+'}"
        ],
        [
         "28",
         "ʦaʔ",
         "陰入5",
         "劄, 札, 紮, 着, 酌, 窄, 隻, 炙, 咂, 灼, 匝",
         "11.0",
         "{'voi': '-++', 'syl': '-+-', 'glottal': '--+'}"
        ],
        [
         "29",
         "ʦoʔ",
         "陰入5",
         "拙, 作, 桌, 卓, 琢, 啄, 捉, 竹, 築, 祝, 粥, 足, 燭, 囑, 茁, 斫, 矚, 竺, 蹙, 唶, 瘃",
         "21.0",
         "{'voi': '-++', 'syl': '-+-', 'glottal': '--+'}"
        ],
        [
         "30",
         "ʦəʔ",
         "陰入5",
         "只, 摺, 褶, 執, 汁, 哲, 折, 浙, 拙, 質, 卒, 則, 側, 織, 職, 摘, 責, 仄, 窒, 蛭, 嘖, 唶",
         "22.0",
         "{'voi': '-++', 'syl': '-+-', 'glottal': '--+'}"
        ],
        [
         "31",
         "ʦʰaʔ",
         "陰入5",
         "插, 擦, 察, 綽, 拆, 㿭, 策, 册, 赤, 斥, 尺, 坼",
         "12.0",
         "{'voi': '-_++', 'syl': '-_+-', 'glottal': '-_-+'}"
        ],
        [
         "32",
         "ʦʰoʔ",
         "陰入5",
         "撮, 猝, 綽, 戳, 畜, 促, 觸, 擉, 齪, 簇, 矗, 輟, 怵, 啜, 蹴",
         "15.0",
         "{'voi': '-_++', 'syl': '-_+-', 'glottal': '-_-+'}"
        ],
        [
         "33",
         "ʦʰəʔ",
         "陰入5",
         "徹, 撤, 轍, 撮, 猝, 出, 飭, 側, 測, 拆, 斥, 掣, 惻, 澈, 叱, 黜, 敕",
         "17.0",
         "{'voi': '-_++', 'syl': '-_+-', 'glottal': '-_-+'}"
        ],
        [
         "34",
         "saʔ",
         "陰入5",
         "眨, 濕, 撒, 薩, 殺, 栅, 刹, 颯, 煞, 霎",
         "10.0",
         "{'voi': '-++', 'syl': '-+-', 'glottal': '--+'}"
        ],
        [
         "35",
         "soʔ",
         "陰入5",
         "塑, 宿, 索, 朔, 速, 肅, 縮, 叔, 粟, 束, 爍, 碩, 夙, 菽, 謖, 溯, 蓿, 鑠, 嗍, 倏",
         "20.0",
         "{'voi': '-++', 'syl': '-+-', 'glottal': '--+'}"
        ],
        [
         "36",
         "səʔ",
         "陰入5",
         "攝, 澀, 濕, 設, 刷, 說, 瑟, 蝨, 失, 室, 率, 蟀, 塞, 色, 嗇, 識, 式, 飾, 適, 釋, 穡, 拭",
         "22.0",
         "{'voi': '-++', 'syl': '-+-', 'glottal': '--+'}"
        ],
        [
         "37",
         "ʨiaʔ",
         "陰入5",
         "夾, 裌, 甲, 胛, 爵, 腳, 莢, 頰, 鉀",
         "9.0",
         "{'voi': '-+++', 'syl': '-++-', 'glottal': '---+'}"
        ],
        [
         "38",
         "ʨioʔ",
         "陰入5",
         "覺, 厥, 決, 訣, 橘, 鑊, 菊, 掬, 鞠, 抉, 蹶, 孓, 蕨, 攫, 玨",
         "15.0",
         "{'voi': '-+++', 'syl': '-++-', 'glottal': '---+'}"
        ],
        [
         "39",
         "ʨiɪʔ",
         "陰入5",
         "髻, 接, 劫, 挾, 急, 級, 給, 揭, 節, 結, 潔, 䥛, 吉, 即, 鯽, 戟, 積, 跡, 脊, 績, 擊, 激, 拮, 棘, 莢, 桔, 頰, 稷, 漬, 孑, 汲, 瘠, 癤, 唧, 鶺",
         "35.0",
         "{'voi': '-+++', 'syl': '-++-', 'glottal': '---+'}"
        ],
        [
         "40",
         "ʨyɪʔ",
         "陰入5",
         "覺, 厥, 決, 訣, 橘, 钁, 菊, 掬, 鞠, 抉, 蹶, 孑, 蕨, 攫",
         "14.0",
         "{'voi': '-+++', 'syl': '-++-', 'glottal': '---+'}"
        ],
        [
         "41",
         "ʨʰiaʔ",
         "陰入5",
         "恰, 洽, 怯, 雀, 鵲, 卻, 皵",
         "7.0",
         "{'voi': '-_+++', 'syl': '-_++-', 'glottal': '-_--+'}"
        ],
        [
         "42",
         "ʨʰioʔ",
         "陰入5",
         "缺, 屈, 卻, 確, 麴, 曲, 蛐, 炔, 闕",
         "9.0",
         "{'voi': '-_+++', 'syl': '-_++-', 'glottal': '-_--+'}"
        ],
        [
         "43",
         "ʨʰiɪʔ",
         "陰入5",
         "契, 怯, 緝, 輯, 泣, 切, 七, 漆, 訖, 乞, 戚, 吃, 柒, 迄, 竊, 葺, 鍥, 齕",
         "18.0",
         "{'voi': '-_+++', 'syl': '-_++-', 'glottal': '-_--+'}"
        ],
        [
         "44",
         "ʨʰyɪʔ",
         "陰入5",
         "缺, 屈, 卻, 確, 麴, 曲, 蛐, 炔, 闕",
         "9.0",
         "{'voi': '-_+++', 'syl': '-_++-', 'glottal': '-_--+'}"
        ],
        [
         "45",
         "ɕiaʔ",
         "陰入5",
         "削",
         "1.0",
         "{'voi': '++++', 'syl': '-++-', 'glottal': '---+'}"
        ],
        [
         "46",
         "ɕioʔ",
         "陰入5",
         "血, 恤, 畜, 蓄, 旭, 噱",
         "6.0",
         "{'voi': '++++', 'syl': '-++-', 'glottal': '---+'}"
        ],
        [
         "47",
         "ɕiɪʔ",
         "陰入5",
         "脅, 吸, 薛, 泄, 歇, 蠍, 屑, 楔, 雪, 悉, 膝, 戌, 息, 熄, 媳, 惜, 昔, 錫, 析, 淅, 晰, 蟋, 隙, 褻, 蜥, 歙",
         "26.0",
         "{'voi': '++++', 'syl': '-++-', 'glottal': '---+'}"
        ],
        [
         "48",
         "ɕyɪʔ",
         "陰入5",
         "血, 恤, 畜, 蓄, 旭, 噱",
         "6.0",
         "{'voi': '++++', 'syl': '-++-', 'glottal': '---+'}"
        ],
        [
         "49",
         "kaʔ",
         "陰入5",
         "夾, 裌, 格, 隔, 膈, 骼, 䇲, 䀫",
         "8.0",
         "{'voi': '-++', 'syl': '-+-', 'glottal': '--+'}"
        ],
        [
         "50",
         "kuaʔ",
         "陰入5",
         "括, 刮, 曠, 摑",
         "4.0",
         "{'voi': '-+++', 'syl': '-++-', 'glottal': '---+'}"
        ]
       ],
       "shape": {
        "columns": 5,
        "rows": 679
       }
      },
      "text/html": [
       "<div>\n",
       "<style scoped>\n",
       "    .dataframe tbody tr th:only-of-type {\n",
       "        vertical-align: middle;\n",
       "    }\n",
       "\n",
       "    .dataframe tbody tr th {\n",
       "        vertical-align: top;\n",
       "    }\n",
       "\n",
       "    .dataframe thead th {\n",
       "        text-align: right;\n",
       "    }\n",
       "</style>\n",
       "<table border=\"1\" class=\"dataframe\">\n",
       "  <thead>\n",
       "    <tr style=\"text-align: right;\">\n",
       "      <th></th>\n",
       "      <th>Form</th>\n",
       "      <th>Tone</th>\n",
       "      <th>Char</th>\n",
       "      <th>Count</th>\n",
       "      <th>Features</th>\n",
       "    </tr>\n",
       "  </thead>\n",
       "  <tbody>\n",
       "    <tr>\n",
       "      <th>0</th>\n",
       "      <td>aʔ</td>\n",
       "      <td>陰入5</td>\n",
       "      <td>阿, 鴨, 押, 壓</td>\n",
       "      <td>4.0</td>\n",
       "      <td>{'voi': '++', 'syl': '+-', 'glottal': '-+'}</td>\n",
       "    </tr>\n",
       "    <tr>\n",
       "      <th>1</th>\n",
       "      <td>iaʔ</td>\n",
       "      <td>陰入5</td>\n",
       "      <td>約</td>\n",
       "      <td>1.0</td>\n",
       "      <td>{'voi': '+++', 'syl': '++-', 'glottal': '--+'}</td>\n",
       "    </tr>\n",
       "    <tr>\n",
       "      <th>2</th>\n",
       "      <td>uaʔ</td>\n",
       "      <td>陰入5</td>\n",
       "      <td>挖</td>\n",
       "      <td>1.0</td>\n",
       "      <td>{'voi': '+++', 'syl': '++-', 'glottal': '--+'}</td>\n",
       "    </tr>\n",
       "    <tr>\n",
       "      <th>3</th>\n",
       "      <td>oʔ</td>\n",
       "      <td>陰入5</td>\n",
       "      <td>惡, 握, 屋, 沃, 噩, 幄, 齷, 渥</td>\n",
       "      <td>8.0</td>\n",
       "      <td>{'voi': '++', 'syl': '+-', 'glottal': '-+'}</td>\n",
       "    </tr>\n",
       "    <tr>\n",
       "      <th>4</th>\n",
       "      <td>ioʔ</td>\n",
       "      <td>陰入5</td>\n",
       "      <td>郁</td>\n",
       "      <td>1.0</td>\n",
       "      <td>{'voi': '+++', 'syl': '++-', 'glottal': '--+'}</td>\n",
       "    </tr>\n",
       "    <tr>\n",
       "      <th>...</th>\n",
       "      <td>...</td>\n",
       "      <td>...</td>\n",
       "      <td>...</td>\n",
       "      <td>...</td>\n",
       "      <td>...</td>\n",
       "    </tr>\n",
       "    <tr>\n",
       "      <th>675</th>\n",
       "      <td>ɦoŋ</td>\n",
       "      <td>陽去13</td>\n",
       "      <td>虹, 弘, 宏, 紅, 洪, 鴻, 泓</td>\n",
       "      <td>7.0</td>\n",
       "      <td>{'voi': '+++', 'syl': '-++', 'glottal': '---'}</td>\n",
       "    </tr>\n",
       "    <tr>\n",
       "      <th>676</th>\n",
       "      <td>ɦioŋ</td>\n",
       "      <td>陽去13</td>\n",
       "      <td>勻, 允, 云, 雲, 韻, 運, 暈, 孕, 螢, 榮, 營, 塋, 熊, 雄, 融, 容...</td>\n",
       "      <td>30.0</td>\n",
       "      <td>{'voi': '++++', 'syl': '-+++', 'glottal': '----'}</td>\n",
       "    </tr>\n",
       "    <tr>\n",
       "      <th>677</th>\n",
       "      <td>ɦəl</td>\n",
       "      <td>陽去13</td>\n",
       "      <td>兒, 爾, 二, 貳, 而, 耳, 餌, 邇, 洱, 珥</td>\n",
       "      <td>10.0</td>\n",
       "      <td>{'voi': '+++', 'syl': '-+-', 'glottal': '---'}</td>\n",
       "    </tr>\n",
       "    <tr>\n",
       "      <th>678</th>\n",
       "      <td>ɦm̍</td>\n",
       "      <td>陽去13</td>\n",
       "      <td>畝, 嘸</td>\n",
       "      <td>2.0</td>\n",
       "      <td>{'voi': '++_', 'syl': '--_', 'glottal': '--_'}</td>\n",
       "    </tr>\n",
       "    <tr>\n",
       "      <th>679</th>\n",
       "      <td>ɦŋ̍</td>\n",
       "      <td>陽去13</td>\n",
       "      <td>五, 伍, 午, 魚, 兒</td>\n",
       "      <td>5.0</td>\n",
       "      <td>{'voi': '++_', 'syl': '-+_', 'glottal': '--_'}</td>\n",
       "    </tr>\n",
       "  </tbody>\n",
       "</table>\n",
       "<p>679 rows × 5 columns</p>\n",
       "</div>"
      ],
      "text/plain": [
       "     Form  Tone                                               Char  Count  \\\n",
       "0      aʔ   陰入5                                         阿, 鴨, 押, 壓    4.0   \n",
       "1     iaʔ   陰入5                                                  約    1.0   \n",
       "2     uaʔ   陰入5                                                  挖    1.0   \n",
       "3      oʔ   陰入5                             惡, 握, 屋, 沃, 噩, 幄, 齷, 渥    8.0   \n",
       "4     ioʔ   陰入5                                                  郁    1.0   \n",
       "..    ...   ...                                                ...    ...   \n",
       "675   ɦoŋ  陽去13                                虹, 弘, 宏, 紅, 洪, 鴻, 泓    7.0   \n",
       "676  ɦioŋ  陽去13  勻, 允, 云, 雲, 韻, 運, 暈, 孕, 螢, 榮, 營, 塋, 熊, 雄, 融, 容...   30.0   \n",
       "677   ɦəl  陽去13                       兒, 爾, 二, 貳, 而, 耳, 餌, 邇, 洱, 珥   10.0   \n",
       "678   ɦm̍  陽去13                                               畝, 嘸    2.0   \n",
       "679   ɦŋ̍  陽去13                                      五, 伍, 午, 魚, 兒    5.0   \n",
       "\n",
       "                                              Features  \n",
       "0          {'voi': '++', 'syl': '+-', 'glottal': '-+'}  \n",
       "1       {'voi': '+++', 'syl': '++-', 'glottal': '--+'}  \n",
       "2       {'voi': '+++', 'syl': '++-', 'glottal': '--+'}  \n",
       "3          {'voi': '++', 'syl': '+-', 'glottal': '-+'}  \n",
       "4       {'voi': '+++', 'syl': '++-', 'glottal': '--+'}  \n",
       "..                                                 ...  \n",
       "675     {'voi': '+++', 'syl': '-++', 'glottal': '---'}  \n",
       "676  {'voi': '++++', 'syl': '-+++', 'glottal': '----'}  \n",
       "677     {'voi': '+++', 'syl': '-+-', 'glottal': '---'}  \n",
       "678     {'voi': '++_', 'syl': '--_', 'glottal': '--_'}  \n",
       "679     {'voi': '++_', 'syl': '-+_', 'glottal': '--_'}  \n",
       "\n",
       "[679 rows x 5 columns]"
      ]
     },
     "execution_count": 37,
     "metadata": {},
     "output_type": "execute_result"
    }
   ],
   "source": [
    "shanghai"
   ]
  },
  {
   "cell_type": "code",
   "execution_count": null,
   "id": "885cc0ca",
   "metadata": {},
   "outputs": [],
   "source": []
  }
 ],
 "metadata": {
  "kernelspec": {
   "display_name": "Python 3",
   "language": "python",
   "name": "python3"
  },
  "language_info": {
   "codemirror_mode": {
    "name": "ipython",
    "version": 3
   },
   "file_extension": ".py",
   "mimetype": "text/x-python",
   "name": "python",
   "nbconvert_exporter": "python",
   "pygments_lexer": "ipython3",
   "version": "3.13.1"
  }
 },
 "nbformat": 4,
 "nbformat_minor": 5
}
