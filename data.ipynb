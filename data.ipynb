{
 "cells": [
  {
   "cell_type": "code",
   "execution_count": 93,
   "id": "1caafbe0",
   "metadata": {},
   "outputs": [
    {
     "name": "stdout",
     "output_type": "stream",
     "text": [
      "all characters: abdefhiklmnopstuvyzøŋȵɑɔɕəɡɤɦɪɿʑʔʥʦʨʰ̃̍\n",
      "All syllable structures in the corpus:\n",
      " ['Vg' 'VVg' 'TVg' 'TVVg' 'VN' 'V' 'VV' 'VVN' 'TV' 'TVV' 'TVN' 'NV' 'NVN'\n",
      " 'TVVN' 'NVV' 'GV' 'N' 'DVg' 'DVVg' 'NVg' 'NVVg' 'GVg' 'GVVg' 'DV' 'DVV'\n",
      " 'DVN' 'DVVN' 'NVVN' 'GVN' 'GVV' 'GVVN' 'GN']\n",
      "The corpus shows some superheavy structures inconsistent with literature such as:\n",
      "['TVVg' 'TVVN' 'DVVg' 'NVVg' 'GVVg' 'DVVN' 'NVVN' 'GVVN']\n",
      "After filtering: ['Vg' 'TVg' 'VN' 'V' 'VV' 'TV' 'TVV' 'TVN' 'NV' 'NVN' 'NVV' 'GV' 'N' 'DVg'\n",
      " 'NVg' 'GVg' 'DV' 'DVV' 'DVN' 'GVN' 'GVV' 'GN']\n",
      "['H', 'MH', 'HM', 'L', 'LM']\n",
      "Categories (5, object): ['H', 'MH', 'HM', 'L', 'LM']\n"
     ]
    },
    {
     "data": {
      "application/vnd.microsoft.datawrangler.viewer.v0+json": {
       "columns": [
        {
         "name": "index",
         "rawType": "int64",
         "type": "integer"
        },
        {
         "name": "Form",
         "rawType": "object",
         "type": "string"
        },
        {
         "name": "Tone",
         "rawType": "category",
         "type": "unknown"
        },
        {
         "name": "tone_letter",
         "rawType": "category",
         "type": "unknown"
        },
        {
         "name": "simple",
         "rawType": "object",
         "type": "string"
        }
       ],
       "ref": "817a0931-4ffb-44b6-b4eb-e27060b3a474",
       "rows": [
        [
         "0",
         "aʔ",
         "陰入5",
         "H",
         "Vg"
        ],
        [
         "3",
         "oʔ",
         "陰入5",
         "H",
         "Vg"
        ],
        [
         "5",
         "əʔ",
         "陰入5",
         "H",
         "Vg"
        ],
        [
         "9",
         "paʔ",
         "陰入5",
         "H",
         "TVg"
        ],
        [
         "10",
         "poʔ",
         "陰入5",
         "H",
         "TVg"
        ],
        [
         "11",
         "pəʔ",
         "陰入5",
         "H",
         "TVg"
        ],
        [
         "13",
         "paʔ",
         "陰入5",
         "H",
         "TVg"
        ],
        [
         "14",
         "poʔ",
         "陰入5",
         "H",
         "TVg"
        ],
        [
         "15",
         "pəʔ",
         "陰入5",
         "H",
         "TVg"
        ],
        [
         "17",
         "faʔ",
         "陰入5",
         "H",
         "TVg"
        ],
        [
         "18",
         "foʔ",
         "陰入5",
         "H",
         "TVg"
        ],
        [
         "19",
         "fəʔ",
         "陰入5",
         "H",
         "TVg"
        ],
        [
         "20",
         "taʔ",
         "陰入5",
         "H",
         "TVg"
        ],
        [
         "21",
         "toʔ",
         "陰入5",
         "H",
         "TVg"
        ],
        [
         "22",
         "təʔ",
         "陰入5",
         "H",
         "TVg"
        ],
        [
         "23",
         "taʔ",
         "陰入5",
         "H",
         "TVg"
        ],
        [
         "24",
         "toʔ",
         "陰入5",
         "H",
         "TVg"
        ],
        [
         "25",
         "təʔ",
         "陰入5",
         "H",
         "TVg"
        ],
        [
         "28",
         "ʦaʔ",
         "陰入5",
         "H",
         "TVg"
        ],
        [
         "29",
         "ʦoʔ",
         "陰入5",
         "H",
         "TVg"
        ],
        [
         "30",
         "ʦəʔ",
         "陰入5",
         "H",
         "TVg"
        ],
        [
         "31",
         "ʦaʔ",
         "陰入5",
         "H",
         "TVg"
        ],
        [
         "32",
         "ʦoʔ",
         "陰入5",
         "H",
         "TVg"
        ],
        [
         "33",
         "ʦəʔ",
         "陰入5",
         "H",
         "TVg"
        ],
        [
         "34",
         "saʔ",
         "陰入5",
         "H",
         "TVg"
        ],
        [
         "35",
         "soʔ",
         "陰入5",
         "H",
         "TVg"
        ],
        [
         "36",
         "səʔ",
         "陰入5",
         "H",
         "TVg"
        ],
        [
         "49",
         "kaʔ",
         "陰入5",
         "H",
         "TVg"
        ],
        [
         "51",
         "koʔ",
         "陰入5",
         "H",
         "TVg"
        ],
        [
         "52",
         "kəʔ",
         "陰入5",
         "H",
         "TVg"
        ],
        [
         "54",
         "kaʔ",
         "陰入5",
         "H",
         "TVg"
        ],
        [
         "55",
         "koʔ",
         "陰入5",
         "H",
         "TVg"
        ],
        [
         "56",
         "kəʔ",
         "陰入5",
         "H",
         "TVg"
        ],
        [
         "58",
         "haʔ",
         "陰入5",
         "H",
         "TVg"
        ],
        [
         "60",
         "hoʔ",
         "陰入5",
         "H",
         "TVg"
        ],
        [
         "61",
         "həʔ",
         "陰入5",
         "H",
         "TVg"
        ],
        [
         "63",
         "yŋ",
         "陰去35",
         "MH",
         "VN"
        ],
        [
         "64",
         "i",
         "陰去35",
         "MH",
         "V"
        ],
        [
         "65",
         "u",
         "陰去35",
         "MH",
         "V"
        ],
        [
         "66",
         "a",
         "陰去35",
         "MH",
         "V"
        ],
        [
         "67",
         "ia",
         "陰去35",
         "MH",
         "VV"
        ],
        [
         "68",
         "o",
         "陰去35",
         "MH",
         "V"
        ],
        [
         "69",
         "ɔ",
         "陰去35",
         "MH",
         "V"
        ],
        [
         "70",
         "iɔ",
         "陰去35",
         "MH",
         "VV"
        ],
        [
         "71",
         "ɤ",
         "陰去35",
         "MH",
         "V"
        ],
        [
         "72",
         "iɤ",
         "陰去35",
         "MH",
         "VV"
        ],
        [
         "73",
         "e",
         "陰去35",
         "MH",
         "V"
        ],
        [
         "74",
         "ue",
         "陰去35",
         "MH",
         "VV"
        ],
        [
         "75",
         "ø",
         "陰去35",
         "MH",
         "V"
        ],
        [
         "76",
         "uø",
         "陰去35",
         "MH",
         "VV"
        ]
       ],
       "shape": {
        "columns": 4,
        "rows": 615
       }
      },
      "text/html": [
       "<div>\n",
       "<style scoped>\n",
       "    .dataframe tbody tr th:only-of-type {\n",
       "        vertical-align: middle;\n",
       "    }\n",
       "\n",
       "    .dataframe tbody tr th {\n",
       "        vertical-align: top;\n",
       "    }\n",
       "\n",
       "    .dataframe thead th {\n",
       "        text-align: right;\n",
       "    }\n",
       "</style>\n",
       "<table border=\"1\" class=\"dataframe\">\n",
       "  <thead>\n",
       "    <tr style=\"text-align: right;\">\n",
       "      <th></th>\n",
       "      <th>Form</th>\n",
       "      <th>Tone</th>\n",
       "      <th>tone_letter</th>\n",
       "      <th>simple</th>\n",
       "    </tr>\n",
       "  </thead>\n",
       "  <tbody>\n",
       "    <tr>\n",
       "      <th>0</th>\n",
       "      <td>aʔ</td>\n",
       "      <td>陰入5</td>\n",
       "      <td>H</td>\n",
       "      <td>Vg</td>\n",
       "    </tr>\n",
       "    <tr>\n",
       "      <th>3</th>\n",
       "      <td>oʔ</td>\n",
       "      <td>陰入5</td>\n",
       "      <td>H</td>\n",
       "      <td>Vg</td>\n",
       "    </tr>\n",
       "    <tr>\n",
       "      <th>5</th>\n",
       "      <td>əʔ</td>\n",
       "      <td>陰入5</td>\n",
       "      <td>H</td>\n",
       "      <td>Vg</td>\n",
       "    </tr>\n",
       "    <tr>\n",
       "      <th>9</th>\n",
       "      <td>paʔ</td>\n",
       "      <td>陰入5</td>\n",
       "      <td>H</td>\n",
       "      <td>TVg</td>\n",
       "    </tr>\n",
       "    <tr>\n",
       "      <th>10</th>\n",
       "      <td>poʔ</td>\n",
       "      <td>陰入5</td>\n",
       "      <td>H</td>\n",
       "      <td>TVg</td>\n",
       "    </tr>\n",
       "    <tr>\n",
       "      <th>...</th>\n",
       "      <td>...</td>\n",
       "      <td>...</td>\n",
       "      <td>...</td>\n",
       "      <td>...</td>\n",
       "    </tr>\n",
       "    <tr>\n",
       "      <th>673</th>\n",
       "      <td>ɦiŋ</td>\n",
       "      <td>陽去13</td>\n",
       "      <td>LM</td>\n",
       "      <td>GVN</td>\n",
       "    </tr>\n",
       "    <tr>\n",
       "      <th>675</th>\n",
       "      <td>ɦoŋ</td>\n",
       "      <td>陽去13</td>\n",
       "      <td>LM</td>\n",
       "      <td>GVN</td>\n",
       "    </tr>\n",
       "    <tr>\n",
       "      <th>677</th>\n",
       "      <td>ɦəl</td>\n",
       "      <td>陽去13</td>\n",
       "      <td>LM</td>\n",
       "      <td>GVN</td>\n",
       "    </tr>\n",
       "    <tr>\n",
       "      <th>678</th>\n",
       "      <td>ɦm</td>\n",
       "      <td>陽去13</td>\n",
       "      <td>LM</td>\n",
       "      <td>GN</td>\n",
       "    </tr>\n",
       "    <tr>\n",
       "      <th>679</th>\n",
       "      <td>ɦŋ</td>\n",
       "      <td>陽去13</td>\n",
       "      <td>LM</td>\n",
       "      <td>GN</td>\n",
       "    </tr>\n",
       "  </tbody>\n",
       "</table>\n",
       "<p>615 rows × 4 columns</p>\n",
       "</div>"
      ],
      "text/plain": [
       "    Form  Tone tone_letter simple\n",
       "0     aʔ   陰入5           H     Vg\n",
       "3     oʔ   陰入5           H     Vg\n",
       "5     əʔ   陰入5           H     Vg\n",
       "9    paʔ   陰入5           H    TVg\n",
       "10   poʔ   陰入5           H    TVg\n",
       "..   ...   ...         ...    ...\n",
       "673  ɦiŋ  陽去13          LM    GVN\n",
       "675  ɦoŋ  陽去13          LM    GVN\n",
       "677  ɦəl  陽去13          LM    GVN\n",
       "678   ɦm  陽去13          LM     GN\n",
       "679   ɦŋ  陽去13          LM     GN\n",
       "\n",
       "[615 rows x 4 columns]"
      ]
     },
     "execution_count": 93,
     "metadata": {},
     "output_type": "execute_result"
    }
   ],
   "source": [
    "import pandas as pd\n",
    "import numpy as np\n",
    "import re\n",
    "\n",
    "# === Load data ===\n",
    "shanghai = pd.read_csv(\n",
    "    \"shanghai.csv\",\n",
    "    header=0,\n",
    "    usecols=[1, 3],\n",
    "    dtype={\"form\": \"string\", \"聲調\": \"category\"}\n",
    ")\n",
    "\n",
    "# Rename columns and drop missing rows\n",
    "shanghai = shanghai.rename(columns={\"聲韻\": \"Form\", \"聲調\": \"Tone\"}).dropna()\n",
    "\n",
    "# === Tone mapping ===\n",
    "# print(f\"Tonal inventory: {shanghai['Tone'].unique()}\")\n",
    "\n",
    "tone_map = {\n",
    "    \"5\": \"H\",\n",
    "    \"4\": \"h\",\n",
    "    \"3\": \"M\",\n",
    "    \"2\": \"l\",\n",
    "    \"1\": \"L\",\n",
    "}\n",
    "\n",
    "def map_tone_sequence(seq):\n",
    "    \"\"\"Convert digit tone labels to letter labels.\"\"\"\n",
    "    if pd.isna(seq):\n",
    "        return None\n",
    "    return \"\".join(tone_map.get(ch, \"\") for ch in str(seq))\n",
    "\n",
    "shanghai[\"tone_letter\"] = shanghai[\"Tone\"].apply(map_tone_sequence)\n",
    "\n",
    "print(f\"all characters: {''.join(sorted(set(''.join(shanghai['Form'].dropna().unique()))))}\")\n",
    "\n",
    "# === Feature extraction ===\n",
    "feature_system = {\n",
    "    \"vocalic\":   {\"a\", \"i\", \"u\", \"o\", \"e\", \"y\", \"ø\", \"ɑ\", \"ɔ\", \"ə\", \"ɤ\", \"ɪ\", \"ɿ\"},\n",
    "    \"sonorant\":  {\"l\", \"m\", \"n\", \"ɲ\", \"ŋ\", \"ȵ\"},\n",
    "    \"consonantal\": {\n",
    "        \"b\", \"d\", \"f\", \"h\", \"k\", \"l\", \"m\", \"n\", \"p\", \"s\", \"t\", \"v\", \"z\",\n",
    "        \"ɲ\", \"ȵ\", \"ɕ\", \"ŋ\", \"ɡ\", \"ɦ\", \"ʑ\", \"ʔ\", \"ʥ\", \"ʦ\", \"ʨ\"\n",
    "    },\n",
    "    \"cg\": {\"ʔ\",\"ɦ\"},   # consonantal glottalization\n",
    "    \"voiced\": {\"b\", \"d\", \"ɡ\", \"z\", \"v\", \"l\", \"j\", \"ɦ\", \"ʥ\"},\n",
    "    \"voiceless\": {\"f\", \"h\", \"k\", \"p\", \"s\", \"t\", \"ʦ\", \"ʨ\",\"ʔ\"},\n",
    "}\n",
    "\n",
    "def get_feature(form):\n",
    "    \"\"\"Map characters in Form to a simplified structural code.\"\"\"\n",
    "    simplified = \"\"\n",
    "    for ch in str(form):\n",
    "        if ch in feature_system[\"vocalic\"]:\n",
    "            simplified += \"V\"\n",
    "        elif ch in feature_system[\"cg\"] and ch in feature_system[\"voiced\"]:\n",
    "            simplified += \"G\"\n",
    "        elif ch in feature_system[\"cg\"] and ch in feature_system[\"voiceless\"]:\n",
    "            simplified += \"g\"\n",
    "        elif ch in feature_system[\"consonantal\"]:\n",
    "            if ch in feature_system[\"sonorant\"]:\n",
    "                simplified += \"N\"\n",
    "            elif ch in feature_system[\"voiced\"] and ch not in feature_system[\"sonorant\"]:\n",
    "                simplified += \"D\"\n",
    "            elif ch in feature_system[\"voiceless\"]:\n",
    "                simplified += \"T\"\n",
    "    return simplified\n",
    "\n",
    "shanghai[\"simple\"] = shanghai[\"Form\"].apply(get_feature)\n",
    "\n",
    "# === Diacritic stripping ===\n",
    "strip_diacritics = {\n",
    "    \"ʰ\": \"\",   # superscript h\n",
    "    \"̃\": \"\",   # combining tilde\n",
    "    \"̍\": \"\",   # combining vertical line above\n",
    "}\n",
    "\n",
    "def replace_diacritics(s):\n",
    "    s = str(s)\n",
    "    for old, new in strip_diacritics.items():\n",
    "        s = s.replace(old, new)\n",
    "    return s\n",
    "\n",
    "shanghai[\"Form\"] = shanghai[\"Form\"].apply(replace_diacritics)\n",
    "\n",
    "print(f\"All syllable structures in the corpus:\\n {shanghai['simple'].unique()}\")\n",
    "\n",
    "print(\"The corpus shows some superheavy structures inconsistent with literature such as:\")\n",
    "print(shanghai[shanghai[\"simple\"].str.len() == 4]['simple'].unique())\n",
    "\n",
    "# === Filtering ===\n",
    "# Remove forms ending with glottal stop or superheavy syllables\n",
    "shanghai = shanghai[~shanghai[\"simple\"].str.endswith((\"VVG\", \"VVN\",\"VVg\"))] \n",
    "# or shanghai = shanghai[shanghai[\"simple\"].str.len() != 4]\n",
    "\n",
    "\n",
    "print(f\"After filtering: {shanghai['simple'].unique()}\")\n",
    "\n",
    "print(f\"{shanghai['tone_letter'].unique()}\")\n",
    "shanghai"
   ]
  },
  {
   "cell_type": "code",
   "execution_count": 94,
   "id": "7f8e4c8b",
   "metadata": {},
   "outputs": [
    {
     "data": {
      "application/vnd.microsoft.datawrangler.viewer.v0+json": {
       "columns": [
        {
         "name": "index",
         "rawType": "int64",
         "type": "integer"
        },
        {
         "name": "Form",
         "rawType": "object",
         "type": "string"
        },
        {
         "name": "Tone",
         "rawType": "category",
         "type": "unknown"
        },
        {
         "name": "tone_letter",
         "rawType": "category",
         "type": "unknown"
        },
        {
         "name": "simple",
         "rawType": "object",
         "type": "string"
        }
       ],
       "ref": "42a15a4e-0926-4b66-b1ef-978d634a4ab4",
       "rows": [
        [
         "0",
         "aʔ",
         "陰入5",
         "H",
         "Vg"
        ],
        [
         "3",
         "oʔ",
         "陰入5",
         "H",
         "Vg"
        ],
        [
         "5",
         "əʔ",
         "陰入5",
         "H",
         "Vg"
        ],
        [
         "9",
         "paʔ",
         "陰入5",
         "H",
         "TVg"
        ],
        [
         "10",
         "poʔ",
         "陰入5",
         "H",
         "TVg"
        ],
        [
         "11",
         "pəʔ",
         "陰入5",
         "H",
         "TVg"
        ],
        [
         "13",
         "paʔ",
         "陰入5",
         "H",
         "TVg"
        ],
        [
         "14",
         "poʔ",
         "陰入5",
         "H",
         "TVg"
        ],
        [
         "15",
         "pəʔ",
         "陰入5",
         "H",
         "TVg"
        ],
        [
         "17",
         "faʔ",
         "陰入5",
         "H",
         "TVg"
        ],
        [
         "18",
         "foʔ",
         "陰入5",
         "H",
         "TVg"
        ],
        [
         "19",
         "fəʔ",
         "陰入5",
         "H",
         "TVg"
        ],
        [
         "20",
         "taʔ",
         "陰入5",
         "H",
         "TVg"
        ],
        [
         "21",
         "toʔ",
         "陰入5",
         "H",
         "TVg"
        ],
        [
         "22",
         "təʔ",
         "陰入5",
         "H",
         "TVg"
        ],
        [
         "23",
         "taʔ",
         "陰入5",
         "H",
         "TVg"
        ],
        [
         "24",
         "toʔ",
         "陰入5",
         "H",
         "TVg"
        ],
        [
         "25",
         "təʔ",
         "陰入5",
         "H",
         "TVg"
        ],
        [
         "28",
         "ʦaʔ",
         "陰入5",
         "H",
         "TVg"
        ],
        [
         "29",
         "ʦoʔ",
         "陰入5",
         "H",
         "TVg"
        ],
        [
         "30",
         "ʦəʔ",
         "陰入5",
         "H",
         "TVg"
        ],
        [
         "31",
         "ʦaʔ",
         "陰入5",
         "H",
         "TVg"
        ],
        [
         "32",
         "ʦoʔ",
         "陰入5",
         "H",
         "TVg"
        ],
        [
         "33",
         "ʦəʔ",
         "陰入5",
         "H",
         "TVg"
        ],
        [
         "34",
         "saʔ",
         "陰入5",
         "H",
         "TVg"
        ],
        [
         "35",
         "soʔ",
         "陰入5",
         "H",
         "TVg"
        ],
        [
         "36",
         "səʔ",
         "陰入5",
         "H",
         "TVg"
        ],
        [
         "49",
         "kaʔ",
         "陰入5",
         "H",
         "TVg"
        ],
        [
         "51",
         "koʔ",
         "陰入5",
         "H",
         "TVg"
        ],
        [
         "52",
         "kəʔ",
         "陰入5",
         "H",
         "TVg"
        ],
        [
         "54",
         "kaʔ",
         "陰入5",
         "H",
         "TVg"
        ],
        [
         "55",
         "koʔ",
         "陰入5",
         "H",
         "TVg"
        ],
        [
         "56",
         "kəʔ",
         "陰入5",
         "H",
         "TVg"
        ],
        [
         "58",
         "haʔ",
         "陰入5",
         "H",
         "TVg"
        ],
        [
         "60",
         "hoʔ",
         "陰入5",
         "H",
         "TVg"
        ],
        [
         "61",
         "həʔ",
         "陰入5",
         "H",
         "TVg"
        ],
        [
         "63",
         "yŋ",
         "陰去35",
         "MH",
         "VN"
        ],
        [
         "64",
         "i",
         "陰去35",
         "MH",
         "V"
        ],
        [
         "65",
         "u",
         "陰去35",
         "MH",
         "V"
        ],
        [
         "66",
         "a",
         "陰去35",
         "MH",
         "V"
        ],
        [
         "67",
         "ia",
         "陰去35",
         "MH",
         "VV"
        ],
        [
         "68",
         "o",
         "陰去35",
         "MH",
         "V"
        ],
        [
         "69",
         "ɔ",
         "陰去35",
         "MH",
         "V"
        ],
        [
         "70",
         "iɔ",
         "陰去35",
         "MH",
         "VV"
        ],
        [
         "71",
         "ɤ",
         "陰去35",
         "MH",
         "V"
        ],
        [
         "72",
         "iɤ",
         "陰去35",
         "MH",
         "VV"
        ],
        [
         "73",
         "e",
         "陰去35",
         "MH",
         "V"
        ],
        [
         "74",
         "ue",
         "陰去35",
         "MH",
         "VV"
        ],
        [
         "75",
         "ø",
         "陰去35",
         "MH",
         "V"
        ],
        [
         "76",
         "uø",
         "陰去35",
         "MH",
         "VV"
        ]
       ],
       "shape": {
        "columns": 4,
        "rows": 615
       }
      },
      "text/html": [
       "<div>\n",
       "<style scoped>\n",
       "    .dataframe tbody tr th:only-of-type {\n",
       "        vertical-align: middle;\n",
       "    }\n",
       "\n",
       "    .dataframe tbody tr th {\n",
       "        vertical-align: top;\n",
       "    }\n",
       "\n",
       "    .dataframe thead th {\n",
       "        text-align: right;\n",
       "    }\n",
       "</style>\n",
       "<table border=\"1\" class=\"dataframe\">\n",
       "  <thead>\n",
       "    <tr style=\"text-align: right;\">\n",
       "      <th></th>\n",
       "      <th>Form</th>\n",
       "      <th>Tone</th>\n",
       "      <th>tone_letter</th>\n",
       "      <th>simple</th>\n",
       "    </tr>\n",
       "  </thead>\n",
       "  <tbody>\n",
       "    <tr>\n",
       "      <th>0</th>\n",
       "      <td>aʔ</td>\n",
       "      <td>陰入5</td>\n",
       "      <td>H</td>\n",
       "      <td>Vg</td>\n",
       "    </tr>\n",
       "    <tr>\n",
       "      <th>3</th>\n",
       "      <td>oʔ</td>\n",
       "      <td>陰入5</td>\n",
       "      <td>H</td>\n",
       "      <td>Vg</td>\n",
       "    </tr>\n",
       "    <tr>\n",
       "      <th>5</th>\n",
       "      <td>əʔ</td>\n",
       "      <td>陰入5</td>\n",
       "      <td>H</td>\n",
       "      <td>Vg</td>\n",
       "    </tr>\n",
       "    <tr>\n",
       "      <th>9</th>\n",
       "      <td>paʔ</td>\n",
       "      <td>陰入5</td>\n",
       "      <td>H</td>\n",
       "      <td>TVg</td>\n",
       "    </tr>\n",
       "    <tr>\n",
       "      <th>10</th>\n",
       "      <td>poʔ</td>\n",
       "      <td>陰入5</td>\n",
       "      <td>H</td>\n",
       "      <td>TVg</td>\n",
       "    </tr>\n",
       "    <tr>\n",
       "      <th>...</th>\n",
       "      <td>...</td>\n",
       "      <td>...</td>\n",
       "      <td>...</td>\n",
       "      <td>...</td>\n",
       "    </tr>\n",
       "    <tr>\n",
       "      <th>673</th>\n",
       "      <td>ɦiŋ</td>\n",
       "      <td>陽去13</td>\n",
       "      <td>LM</td>\n",
       "      <td>GVN</td>\n",
       "    </tr>\n",
       "    <tr>\n",
       "      <th>675</th>\n",
       "      <td>ɦoŋ</td>\n",
       "      <td>陽去13</td>\n",
       "      <td>LM</td>\n",
       "      <td>GVN</td>\n",
       "    </tr>\n",
       "    <tr>\n",
       "      <th>677</th>\n",
       "      <td>ɦəl</td>\n",
       "      <td>陽去13</td>\n",
       "      <td>LM</td>\n",
       "      <td>GVN</td>\n",
       "    </tr>\n",
       "    <tr>\n",
       "      <th>678</th>\n",
       "      <td>ɦm</td>\n",
       "      <td>陽去13</td>\n",
       "      <td>LM</td>\n",
       "      <td>GN</td>\n",
       "    </tr>\n",
       "    <tr>\n",
       "      <th>679</th>\n",
       "      <td>ɦŋ</td>\n",
       "      <td>陽去13</td>\n",
       "      <td>LM</td>\n",
       "      <td>GN</td>\n",
       "    </tr>\n",
       "  </tbody>\n",
       "</table>\n",
       "<p>615 rows × 4 columns</p>\n",
       "</div>"
      ],
      "text/plain": [
       "    Form  Tone tone_letter simple\n",
       "0     aʔ   陰入5           H     Vg\n",
       "3     oʔ   陰入5           H     Vg\n",
       "5     əʔ   陰入5           H     Vg\n",
       "9    paʔ   陰入5           H    TVg\n",
       "10   poʔ   陰入5           H    TVg\n",
       "..   ...   ...         ...    ...\n",
       "673  ɦiŋ  陽去13          LM    GVN\n",
       "675  ɦoŋ  陽去13          LM    GVN\n",
       "677  ɦəl  陽去13          LM    GVN\n",
       "678   ɦm  陽去13          LM     GN\n",
       "679   ɦŋ  陽去13          LM     GN\n",
       "\n",
       "[615 rows x 4 columns]"
      ]
     },
     "execution_count": 94,
     "metadata": {},
     "output_type": "execute_result"
    }
   ],
   "source": [
    "# === Embed tone in vowel ===\n",
    "def embed_tone_in_vowel(tone, syl):\n",
    "    simplied_form = list(syl)  # make it mutable\n",
    "    v_positions = [i for i, c in enumerate(simplied_form) if c == \"V\"]\n",
    "\n",
    "    if len(tone) == 1 and len(v_positions) == 1:\n",
    "        if tone == \"H\":\n",
    "            simplied_form = syl.replace(\"V\", \"á\")\n",
    "        elif tone == \"L\":\n",
    "            simplied_form = syl.replace(\"V\", \"à\")\n",
    "        elif tone == \"M\":    \n",
    "            simplied_form = syl.replace(\"V\", \"a\")   \n",
    "            \n",
    "    elif len(tone) == 2 and len(v_positions) == 1:\n",
    "        if tone == \"MH\":\n",
    "             simplied_form = syl.replace(\"V\", \"â\")\n",
    "        elif tone == \"HM\":\n",
    "             simplied_form = syl.replace(\"V\", \"ǎ\")\n",
    "        elif tone == \"LM\":    \n",
    "             simplied_form = syl.replace(\"V\", \"ā\")   \n",
    "    \n",
    "    elif len(tone) == 2 and len(v_positions) == 2:  # match\n",
    "        if tone == \"MH\":\n",
    "            simplied_form = syl.replace(\"VV\", \"â\")\n",
    "        elif tone == \"HM\":\n",
    "            simplied_form = syl.replace(\"VV\", \"ǎ\")\n",
    "        elif tone == \"LM\":    \n",
    "            simplied_form = syl.replace(\"VV\", \"ā\")\n",
    "            \n",
    "    elif len(v_positions) == 0:\n",
    "        if tone == \"MH\":\n",
    "            simplied_form = syl.replace(\"N\", \"ń\")\n",
    "        elif tone == \"HM\":\n",
    "            simplied_form = syl.replace(\"N\", \"ň\")\n",
    "        elif tone == \"LM\":    \n",
    "            simplied_form = syl.replace(\"N\", \"ņ\")\n",
    "    simplied_form += ''\n",
    "        \n",
    "    return \" \".join(simplied_form)\n",
    "shanghai"
   ]
  },
  {
   "cell_type": "code",
   "execution_count": 95,
   "id": "b9d042c6",
   "metadata": {},
   "outputs": [
    {
     "data": {
      "application/vnd.microsoft.datawrangler.viewer.v0+json": {
       "columns": [
        {
         "name": "index",
         "rawType": "int64",
         "type": "integer"
        },
        {
         "name": "0",
         "rawType": "object",
         "type": "string"
        }
       ],
       "ref": "3e2f4ef9-1ef8-4914-aebb-67d270e01562",
       "rows": [
        [
         "0",
         "á g"
        ],
        [
         "1",
         "T á g"
        ],
        [
         "2",
         "â N"
        ],
        [
         "3",
         "â"
        ],
        [
         "4",
         "T â"
        ],
        [
         "5",
         "T â N"
        ],
        [
         "6",
         "N â"
        ],
        [
         "7",
         "N â N"
        ],
        [
         "8",
         "G â"
        ],
        [
         "9",
         "ň"
        ],
        [
         "10",
         "ǎ"
        ],
        [
         "11",
         "ǎ N"
        ],
        [
         "12",
         "T ǎ"
        ],
        [
         "13",
         "T ǎ N"
        ],
        [
         "14",
         "N ǎ"
        ],
        [
         "15",
         "N ǎ N"
        ],
        [
         "16",
         "G ǎ"
        ],
        [
         "17",
         "D à g"
        ],
        [
         "18",
         "N à g"
        ],
        [
         "19",
         "G à g"
        ],
        [
         "20",
         "D ā"
        ],
        [
         "21",
         "D ā N"
        ],
        [
         "22",
         "N ā"
        ],
        [
         "23",
         "N ā N"
        ],
        [
         "24",
         "ā N"
        ],
        [
         "25",
         "ā"
        ],
        [
         "26",
         "G ā N"
        ],
        [
         "27",
         "G ā"
        ],
        [
         "28",
         "G ņ"
        ]
       ],
       "shape": {
        "columns": 1,
        "rows": 29
       }
      },
      "text/plain": [
       "0       á g\n",
       "1     T á g\n",
       "2       â N\n",
       "3         â\n",
       "4       T â\n",
       "5     T â N\n",
       "6       N â\n",
       "7     N â N\n",
       "8       G â\n",
       "9         ň\n",
       "10        ǎ\n",
       "11      ǎ N\n",
       "12      T ǎ\n",
       "13    T ǎ N\n",
       "14      N ǎ\n",
       "15    N ǎ N\n",
       "16      G ǎ\n",
       "17    D à g\n",
       "18    N à g\n",
       "19    G à g\n",
       "20      D ā\n",
       "21    D ā N\n",
       "22      N ā\n",
       "23    N ā N\n",
       "24      ā N\n",
       "25        ā\n",
       "26    G ā N\n",
       "27      G ā\n",
       "28      G ņ\n",
       "dtype: object"
      ]
     },
     "execution_count": 95,
     "metadata": {},
     "output_type": "execute_result"
    }
   ],
   "source": [
    "\n",
    "shanghai[\"with_tone\"] = shanghai.apply(\n",
    "    lambda row: embed_tone_in_vowel(row[\"tone_letter\"], row[\"simple\"]), axis=1\n",
    ")\n",
    "\n",
    "\n",
    "shanghai_tone = pd.Series(shanghai['with_tone'].unique())\n",
    "shanghai_tone.to_csv(\"~/Documents/BUFIA/data/shanghai_data.txt\", index=False, header=False)\n",
    "\n",
    "shanghai_tone"
   ]
  },
  {
   "cell_type": "code",
   "execution_count": 98,
   "id": "108075bd",
   "metadata": {},
   "outputs": [
    {
     "name": "stdout",
     "output_type": "stream",
     "text": [
      "Symbols: ['D', 'G', 'N', 'T', 'g', 'à', 'á', 'â', 'ā', 'ń', 'ņ', 'ň', 'ǎ']\n",
      "       D  G  N  T  g  à  á  â  ā  ń  ņ  ň  ǎ\n",
      "nas    -  -  +  -  -  -  -  -  -  +  +  +  -\n",
      "cons   +  +  +  +  +  -  -  -  -  +  +  +  -\n",
      "son    -  -  +  -  -  +  +  +  +  +  +  +  +\n",
      "voi    +  +  +  -  -  +  +  +  +  +  +  +  +\n",
      "cg     -  +  -  -  +  -  -  -  -  -  -  -  -\n",
      "H      0  0  0  0  0  -  +  -  -  -  -  +  +\n",
      "L      0  0  0  0  0  +  -  -  +  -  +  -  -\n",
      "short  0  0  0  0  0  +  +  -  -  -  -  -  -\n",
      "fall   0  0  0  0  0  -  -  -  -  -  -  +  +\n"
     ]
    }
   ],
   "source": [
    "\n",
    "# symbols (from your inventory)\n",
    "all_symbol = sorted(\n",
    "    set(''.join(shanghai['with_tone'].dropna().unique()).replace(\" \", \"\")) | {\"ń\"}\n",
    ")\n",
    "\n",
    "print(f\"Symbols: {all_symbol}\")\n",
    "\n",
    "features = [\n",
    "    \"nas\",      # nasal consonant\n",
    "    \"cons\",      # nasal consonant\n",
    "    \"son\",      # sonorant consonant\n",
    "    \"voi\",        # voiced consonant\n",
    "    \"cg\",         # consonantal glottalization\n",
    "    \"H\",      # upper register tone\n",
    "    \"L\",      # upper register tone\n",
    "    \"short\"\n",
    "]\n",
    "\n",
    "# create DataFrame with \"0\" everywhere\n",
    "df = pd.DataFrame(\"0\", index=features, columns=all_symbol)\n",
    "\n",
    "# example: fill in a few cells manually\n",
    "# make every symbol \"-\" first\n",
    "\n",
    "df.loc[\"cons\"] = \"-\"\n",
    "df.loc[\"cons\", ['T','D','G','N','g','ń', 'ņ', 'ň']] = \"+\"\n",
    "\n",
    "\n",
    "df.loc[\"son\"] = \"+\"\n",
    "df.loc[\"son\", ['T','D','G','g']] = \"-\"\n",
    "\n",
    "df.loc[\"nas\"] = \"-\"\n",
    "df.loc[\"nas\", ['N','ń','ņ','ň']] = \"+\"\n",
    "\n",
    "df.loc[\"voi\"] = \"+\"\n",
    "df.loc[\"voi\", ['T','g']] = \"-\"\n",
    "\n",
    "df.loc[\"cg\"] = \"-\"\n",
    "df.loc[\"cg\", ['G','g']] = \"+\"\n",
    "\n",
    "\n",
    "df.loc[\"H\"] = \"0\"\n",
    "df.loc[\"H\", ['á','ǎ','ň']] = \"+\"\n",
    "df.loc[\"H\", ['à','â','ā','ń','ņ']] = \"-\"\n",
    "\n",
    "df.loc[\"L\"] = \"0\"\n",
    "df.loc[\"L\", ['à','ā','ņ']] = \"+\"\n",
    "df.loc[\"L\", ['á','ǎ','â','ń','ň']] = \"-\"\n",
    "\n",
    "df.loc[\"short\"] = \"0\"\n",
    "df.loc[\"short\", ['á','à']] = \"+\"\n",
    "df.loc[\"short\", ['â','ń','ņ','ň','ǎ','ā']] = \"-\"\n",
    "\n",
    "\n",
    "df.loc[\"fall\"] = \"0\"\n",
    "df.loc[\"fall\", ['ň','ǎ']] = \"+\"\n",
    "df.loc[\"fall\", ['â','ń','á','à','ņ','ā']] = \"-\"\n",
    "\n",
    "\n",
    "print(df)\n",
    "\n",
    "df.to_csv(\"~/Documents/BUFIA/data/shanghai_features.csv\")\n",
    "# shanghai"
   ]
  },
  {
   "cell_type": "code",
   "execution_count": 87,
   "id": "e5405d3d",
   "metadata": {},
   "outputs": [
    {
     "name": "stdout",
     "output_type": "stream",
     "text": [
      "After filtering: []\n"
     ]
    }
   ],
   "source": [
    "# search for certain type\n",
    "filtered = shanghai[\n",
    "\t(shanghai['with_tone'].str.startswith('D'))&\n",
    " (shanghai['tone_letter'].str.startswith('H'))][['Form', 'tone_letter', 'Tone', 'with_tone']]\n",
    "print(f\"After filtering: {filtered.values.tolist()}\")\n"
   ]
  },
  {
   "cell_type": "code",
   "execution_count": null,
   "id": "2012fcb6",
   "metadata": {},
   "outputs": [],
   "source": []
  }
 ],
 "metadata": {
  "kernelspec": {
   "display_name": "Python 3",
   "language": "python",
   "name": "python3"
  },
  "language_info": {
   "codemirror_mode": {
    "name": "ipython",
    "version": 3
   },
   "file_extension": ".py",
   "mimetype": "text/x-python",
   "name": "python",
   "nbconvert_exporter": "python",
   "pygments_lexer": "ipython3",
   "version": "3.13.1"
  }
 },
 "nbformat": 4,
 "nbformat_minor": 5
}
